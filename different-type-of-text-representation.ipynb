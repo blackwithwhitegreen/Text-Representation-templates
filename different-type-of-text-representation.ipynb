{
 "cells": [
  {
   "cell_type": "code",
   "execution_count": 1,
   "id": "e6a69054",
   "metadata": {
    "_cell_guid": "b1076dfc-b9ad-4769-8c92-a6c4dae69d19",
    "_uuid": "8f2839f25d086af736a60e9eeb907d3b93b6e0e5",
    "execution": {
     "iopub.execute_input": "2025-04-21T06:49:01.940440Z",
     "iopub.status.busy": "2025-04-21T06:49:01.940067Z",
     "iopub.status.idle": "2025-04-21T06:49:04.099760Z",
     "shell.execute_reply": "2025-04-21T06:49:04.098590Z"
    },
    "papermill": {
     "duration": 2.167637,
     "end_time": "2025-04-21T06:49:04.101367",
     "exception": false,
     "start_time": "2025-04-21T06:49:01.933730",
     "status": "completed"
    },
    "tags": []
   },
   "outputs": [
    {
     "name": "stdout",
     "output_type": "stream",
     "text": [
      "/kaggle/input/twitter-entity-sentiment-analysis/twitter_validation.csv\n",
      "/kaggle/input/twitter-entity-sentiment-analysis/twitter_training.csv\n"
     ]
    }
   ],
   "source": [
    "# This Python 3 environment comes with many helpful analytics libraries installed\n",
    "# It is defined by the kaggle/python Docker image: https://github.com/kaggle/docker-python\n",
    "# For example, here's several helpful packages to load\n",
    "\n",
    "import numpy as np # linear algebra\n",
    "import pandas as pd # data processing, CSV file I/O (e.g. pd.read_csv)\n",
    "import warnings\n",
    "warnings.filterwarnings('ignore')\n",
    "\n",
    "# Input data files are available in the read-only \"../input/\" directory\n",
    "# For example, running this (by clicking run or pressing Shift+Enter) will list all files under the input directory\n",
    "\n",
    "import os\n",
    "for dirname, _, filenames in os.walk('/kaggle/input'):\n",
    "    for filename in filenames:\n",
    "        print(os.path.join(dirname, filename))\n",
    "\n",
    "# You can write up to 20GB to the current directory (/kaggle/working/) that gets preserved as output when you create a version using \"Save & Run All\" \n",
    "# You can also write temporary files to /kaggle/temp/, but they won't be saved outside of the current session"
   ]
  },
  {
   "cell_type": "markdown",
   "id": "0bb1f225",
   "metadata": {
    "papermill": {
     "duration": 0.004957,
     "end_time": "2025-04-21T06:49:04.111185",
     "exception": false,
     "start_time": "2025-04-21T06:49:04.106228",
     "status": "completed"
    },
    "tags": []
   },
   "source": [
    "# Data loading and preprocessing"
   ]
  },
  {
   "cell_type": "code",
   "execution_count": 2,
   "id": "806bc229",
   "metadata": {
    "execution": {
     "iopub.execute_input": "2025-04-21T06:49:04.122668Z",
     "iopub.status.busy": "2025-04-21T06:49:04.121994Z",
     "iopub.status.idle": "2025-04-21T06:49:04.516083Z",
     "shell.execute_reply": "2025-04-21T06:49:04.515425Z"
    },
    "papermill": {
     "duration": 0.400951,
     "end_time": "2025-04-21T06:49:04.517594",
     "exception": false,
     "start_time": "2025-04-21T06:49:04.116643",
     "status": "completed"
    },
    "tags": []
   },
   "outputs": [],
   "source": [
    "df_train= pd.read_csv(\"/kaggle/input/twitter-entity-sentiment-analysis/twitter_training.csv\")"
   ]
  },
  {
   "cell_type": "code",
   "execution_count": 3,
   "id": "a86b0ea4",
   "metadata": {
    "execution": {
     "iopub.execute_input": "2025-04-21T06:49:04.528120Z",
     "iopub.status.busy": "2025-04-21T06:49:04.527637Z",
     "iopub.status.idle": "2025-04-21T06:49:04.557011Z",
     "shell.execute_reply": "2025-04-21T06:49:04.556189Z"
    },
    "papermill": {
     "duration": 0.036173,
     "end_time": "2025-04-21T06:49:04.558436",
     "exception": false,
     "start_time": "2025-04-21T06:49:04.522263",
     "status": "completed"
    },
    "tags": []
   },
   "outputs": [
    {
     "data": {
      "text/html": [
       "<div>\n",
       "<style scoped>\n",
       "    .dataframe tbody tr th:only-of-type {\n",
       "        vertical-align: middle;\n",
       "    }\n",
       "\n",
       "    .dataframe tbody tr th {\n",
       "        vertical-align: top;\n",
       "    }\n",
       "\n",
       "    .dataframe thead th {\n",
       "        text-align: right;\n",
       "    }\n",
       "</style>\n",
       "<table border=\"1\" class=\"dataframe\">\n",
       "  <thead>\n",
       "    <tr style=\"text-align: right;\">\n",
       "      <th></th>\n",
       "      <th>2401</th>\n",
       "      <th>Borderlands</th>\n",
       "      <th>Positive</th>\n",
       "      <th>im getting on borderlands and i will murder you all ,</th>\n",
       "    </tr>\n",
       "  </thead>\n",
       "  <tbody>\n",
       "    <tr>\n",
       "      <th>0</th>\n",
       "      <td>2401</td>\n",
       "      <td>Borderlands</td>\n",
       "      <td>Positive</td>\n",
       "      <td>I am coming to the borders and I will kill you...</td>\n",
       "    </tr>\n",
       "    <tr>\n",
       "      <th>1</th>\n",
       "      <td>2401</td>\n",
       "      <td>Borderlands</td>\n",
       "      <td>Positive</td>\n",
       "      <td>im getting on borderlands and i will kill you ...</td>\n",
       "    </tr>\n",
       "    <tr>\n",
       "      <th>2</th>\n",
       "      <td>2401</td>\n",
       "      <td>Borderlands</td>\n",
       "      <td>Positive</td>\n",
       "      <td>im coming on borderlands and i will murder you...</td>\n",
       "    </tr>\n",
       "    <tr>\n",
       "      <th>3</th>\n",
       "      <td>2401</td>\n",
       "      <td>Borderlands</td>\n",
       "      <td>Positive</td>\n",
       "      <td>im getting on borderlands 2 and i will murder ...</td>\n",
       "    </tr>\n",
       "    <tr>\n",
       "      <th>4</th>\n",
       "      <td>2401</td>\n",
       "      <td>Borderlands</td>\n",
       "      <td>Positive</td>\n",
       "      <td>im getting into borderlands and i can murder y...</td>\n",
       "    </tr>\n",
       "    <tr>\n",
       "      <th>...</th>\n",
       "      <td>...</td>\n",
       "      <td>...</td>\n",
       "      <td>...</td>\n",
       "      <td>...</td>\n",
       "    </tr>\n",
       "    <tr>\n",
       "      <th>74676</th>\n",
       "      <td>9200</td>\n",
       "      <td>Nvidia</td>\n",
       "      <td>Positive</td>\n",
       "      <td>Just realized that the Windows partition of my...</td>\n",
       "    </tr>\n",
       "    <tr>\n",
       "      <th>74677</th>\n",
       "      <td>9200</td>\n",
       "      <td>Nvidia</td>\n",
       "      <td>Positive</td>\n",
       "      <td>Just realized that my Mac window partition is ...</td>\n",
       "    </tr>\n",
       "    <tr>\n",
       "      <th>74678</th>\n",
       "      <td>9200</td>\n",
       "      <td>Nvidia</td>\n",
       "      <td>Positive</td>\n",
       "      <td>Just realized the windows partition of my Mac ...</td>\n",
       "    </tr>\n",
       "    <tr>\n",
       "      <th>74679</th>\n",
       "      <td>9200</td>\n",
       "      <td>Nvidia</td>\n",
       "      <td>Positive</td>\n",
       "      <td>Just realized between the windows partition of...</td>\n",
       "    </tr>\n",
       "    <tr>\n",
       "      <th>74680</th>\n",
       "      <td>9200</td>\n",
       "      <td>Nvidia</td>\n",
       "      <td>Positive</td>\n",
       "      <td>Just like the windows partition of my Mac is l...</td>\n",
       "    </tr>\n",
       "  </tbody>\n",
       "</table>\n",
       "<p>74681 rows × 4 columns</p>\n",
       "</div>"
      ],
      "text/plain": [
       "       2401  Borderlands  Positive  \\\n",
       "0      2401  Borderlands  Positive   \n",
       "1      2401  Borderlands  Positive   \n",
       "2      2401  Borderlands  Positive   \n",
       "3      2401  Borderlands  Positive   \n",
       "4      2401  Borderlands  Positive   \n",
       "...     ...          ...       ...   \n",
       "74676  9200       Nvidia  Positive   \n",
       "74677  9200       Nvidia  Positive   \n",
       "74678  9200       Nvidia  Positive   \n",
       "74679  9200       Nvidia  Positive   \n",
       "74680  9200       Nvidia  Positive   \n",
       "\n",
       "      im getting on borderlands and i will murder you all ,  \n",
       "0      I am coming to the borders and I will kill you...     \n",
       "1      im getting on borderlands and i will kill you ...     \n",
       "2      im coming on borderlands and i will murder you...     \n",
       "3      im getting on borderlands 2 and i will murder ...     \n",
       "4      im getting into borderlands and i can murder y...     \n",
       "...                                                  ...     \n",
       "74676  Just realized that the Windows partition of my...     \n",
       "74677  Just realized that my Mac window partition is ...     \n",
       "74678  Just realized the windows partition of my Mac ...     \n",
       "74679  Just realized between the windows partition of...     \n",
       "74680  Just like the windows partition of my Mac is l...     \n",
       "\n",
       "[74681 rows x 4 columns]"
      ]
     },
     "execution_count": 3,
     "metadata": {},
     "output_type": "execute_result"
    }
   ],
   "source": [
    "df_train"
   ]
  },
  {
   "cell_type": "markdown",
   "id": "14f60236",
   "metadata": {
    "papermill": {
     "duration": 0.004377,
     "end_time": "2025-04-21T06:49:04.567647",
     "exception": false,
     "start_time": "2025-04-21T06:49:04.563270",
     "status": "completed"
    },
    "tags": []
   },
   "source": [
    "**- Changeing columns name and shifting data in Zeroth row.**"
   ]
  },
  {
   "cell_type": "code",
   "execution_count": 4,
   "id": "3a8351a6",
   "metadata": {
    "execution": {
     "iopub.execute_input": "2025-04-21T06:49:04.577917Z",
     "iopub.status.busy": "2025-04-21T06:49:04.577626Z",
     "iopub.status.idle": "2025-04-21T06:49:04.612078Z",
     "shell.execute_reply": "2025-04-21T06:49:04.611421Z"
    },
    "papermill": {
     "duration": 0.041573,
     "end_time": "2025-04-21T06:49:04.613730",
     "exception": false,
     "start_time": "2025-04-21T06:49:04.572157",
     "status": "completed"
    },
    "tags": []
   },
   "outputs": [],
   "source": [
    "current_col = df_train.columns.tolist()\n",
    "\n",
    "df_train.loc[-1] = current_col\n",
    "df_train.index = df_train.index+1\n",
    "df_train = df_train.sort_index()\n",
    "\n",
    "df_train.columns = ['tweet_id','entity','sentiment','text']\n",
    "\n",
    "df_train.reset_index(drop=True,inplace=True)\n"
   ]
  },
  {
   "cell_type": "code",
   "execution_count": 5,
   "id": "83901192",
   "metadata": {
    "execution": {
     "iopub.execute_input": "2025-04-21T06:49:04.624293Z",
     "iopub.status.busy": "2025-04-21T06:49:04.623950Z",
     "iopub.status.idle": "2025-04-21T06:49:04.633945Z",
     "shell.execute_reply": "2025-04-21T06:49:04.633308Z"
    },
    "papermill": {
     "duration": 0.016712,
     "end_time": "2025-04-21T06:49:04.635247",
     "exception": false,
     "start_time": "2025-04-21T06:49:04.618535",
     "status": "completed"
    },
    "tags": []
   },
   "outputs": [
    {
     "data": {
      "text/html": [
       "<div>\n",
       "<style scoped>\n",
       "    .dataframe tbody tr th:only-of-type {\n",
       "        vertical-align: middle;\n",
       "    }\n",
       "\n",
       "    .dataframe tbody tr th {\n",
       "        vertical-align: top;\n",
       "    }\n",
       "\n",
       "    .dataframe thead th {\n",
       "        text-align: right;\n",
       "    }\n",
       "</style>\n",
       "<table border=\"1\" class=\"dataframe\">\n",
       "  <thead>\n",
       "    <tr style=\"text-align: right;\">\n",
       "      <th></th>\n",
       "      <th>tweet_id</th>\n",
       "      <th>entity</th>\n",
       "      <th>sentiment</th>\n",
       "      <th>text</th>\n",
       "    </tr>\n",
       "  </thead>\n",
       "  <tbody>\n",
       "    <tr>\n",
       "      <th>0</th>\n",
       "      <td>2401</td>\n",
       "      <td>Borderlands</td>\n",
       "      <td>Positive</td>\n",
       "      <td>im getting on borderlands and i will murder yo...</td>\n",
       "    </tr>\n",
       "    <tr>\n",
       "      <th>1</th>\n",
       "      <td>2401</td>\n",
       "      <td>Borderlands</td>\n",
       "      <td>Positive</td>\n",
       "      <td>I am coming to the borders and I will kill you...</td>\n",
       "    </tr>\n",
       "    <tr>\n",
       "      <th>2</th>\n",
       "      <td>2401</td>\n",
       "      <td>Borderlands</td>\n",
       "      <td>Positive</td>\n",
       "      <td>im getting on borderlands and i will kill you ...</td>\n",
       "    </tr>\n",
       "    <tr>\n",
       "      <th>3</th>\n",
       "      <td>2401</td>\n",
       "      <td>Borderlands</td>\n",
       "      <td>Positive</td>\n",
       "      <td>im coming on borderlands and i will murder you...</td>\n",
       "    </tr>\n",
       "    <tr>\n",
       "      <th>4</th>\n",
       "      <td>2401</td>\n",
       "      <td>Borderlands</td>\n",
       "      <td>Positive</td>\n",
       "      <td>im getting on borderlands 2 and i will murder ...</td>\n",
       "    </tr>\n",
       "    <tr>\n",
       "      <th>...</th>\n",
       "      <td>...</td>\n",
       "      <td>...</td>\n",
       "      <td>...</td>\n",
       "      <td>...</td>\n",
       "    </tr>\n",
       "    <tr>\n",
       "      <th>74677</th>\n",
       "      <td>9200</td>\n",
       "      <td>Nvidia</td>\n",
       "      <td>Positive</td>\n",
       "      <td>Just realized that the Windows partition of my...</td>\n",
       "    </tr>\n",
       "    <tr>\n",
       "      <th>74678</th>\n",
       "      <td>9200</td>\n",
       "      <td>Nvidia</td>\n",
       "      <td>Positive</td>\n",
       "      <td>Just realized that my Mac window partition is ...</td>\n",
       "    </tr>\n",
       "    <tr>\n",
       "      <th>74679</th>\n",
       "      <td>9200</td>\n",
       "      <td>Nvidia</td>\n",
       "      <td>Positive</td>\n",
       "      <td>Just realized the windows partition of my Mac ...</td>\n",
       "    </tr>\n",
       "    <tr>\n",
       "      <th>74680</th>\n",
       "      <td>9200</td>\n",
       "      <td>Nvidia</td>\n",
       "      <td>Positive</td>\n",
       "      <td>Just realized between the windows partition of...</td>\n",
       "    </tr>\n",
       "    <tr>\n",
       "      <th>74681</th>\n",
       "      <td>9200</td>\n",
       "      <td>Nvidia</td>\n",
       "      <td>Positive</td>\n",
       "      <td>Just like the windows partition of my Mac is l...</td>\n",
       "    </tr>\n",
       "  </tbody>\n",
       "</table>\n",
       "<p>74682 rows × 4 columns</p>\n",
       "</div>"
      ],
      "text/plain": [
       "      tweet_id       entity sentiment  \\\n",
       "0         2401  Borderlands  Positive   \n",
       "1         2401  Borderlands  Positive   \n",
       "2         2401  Borderlands  Positive   \n",
       "3         2401  Borderlands  Positive   \n",
       "4         2401  Borderlands  Positive   \n",
       "...        ...          ...       ...   \n",
       "74677     9200       Nvidia  Positive   \n",
       "74678     9200       Nvidia  Positive   \n",
       "74679     9200       Nvidia  Positive   \n",
       "74680     9200       Nvidia  Positive   \n",
       "74681     9200       Nvidia  Positive   \n",
       "\n",
       "                                                    text  \n",
       "0      im getting on borderlands and i will murder yo...  \n",
       "1      I am coming to the borders and I will kill you...  \n",
       "2      im getting on borderlands and i will kill you ...  \n",
       "3      im coming on borderlands and i will murder you...  \n",
       "4      im getting on borderlands 2 and i will murder ...  \n",
       "...                                                  ...  \n",
       "74677  Just realized that the Windows partition of my...  \n",
       "74678  Just realized that my Mac window partition is ...  \n",
       "74679  Just realized the windows partition of my Mac ...  \n",
       "74680  Just realized between the windows partition of...  \n",
       "74681  Just like the windows partition of my Mac is l...  \n",
       "\n",
       "[74682 rows x 4 columns]"
      ]
     },
     "execution_count": 5,
     "metadata": {},
     "output_type": "execute_result"
    }
   ],
   "source": [
    "df_train"
   ]
  },
  {
   "cell_type": "code",
   "execution_count": 6,
   "id": "adc6060d",
   "metadata": {
    "execution": {
     "iopub.execute_input": "2025-04-21T06:49:04.646700Z",
     "iopub.status.busy": "2025-04-21T06:49:04.645808Z",
     "iopub.status.idle": "2025-04-21T06:49:04.667078Z",
     "shell.execute_reply": "2025-04-21T06:49:04.666259Z"
    },
    "papermill": {
     "duration": 0.02819,
     "end_time": "2025-04-21T06:49:04.668493",
     "exception": false,
     "start_time": "2025-04-21T06:49:04.640303",
     "status": "completed"
    },
    "tags": []
   },
   "outputs": [
    {
     "data": {
      "text/html": [
       "<div>\n",
       "<style scoped>\n",
       "    .dataframe tbody tr th:only-of-type {\n",
       "        vertical-align: middle;\n",
       "    }\n",
       "\n",
       "    .dataframe tbody tr th {\n",
       "        vertical-align: top;\n",
       "    }\n",
       "\n",
       "    .dataframe thead th {\n",
       "        text-align: right;\n",
       "    }\n",
       "</style>\n",
       "<table border=\"1\" class=\"dataframe\">\n",
       "  <thead>\n",
       "    <tr style=\"text-align: right;\">\n",
       "      <th></th>\n",
       "      <th>3364</th>\n",
       "      <th>Facebook</th>\n",
       "      <th>Irrelevant</th>\n",
       "      <th>I mentioned on Facebook that I was struggling for motivation to go for a run the other day, which has been translated by Tom’s great auntie as ‘Hayley can’t get out of bed’ and told to his grandma, who now thinks I’m a lazy, terrible person 🤣</th>\n",
       "    </tr>\n",
       "  </thead>\n",
       "  <tbody>\n",
       "    <tr>\n",
       "      <th>0</th>\n",
       "      <td>352</td>\n",
       "      <td>Amazon</td>\n",
       "      <td>Neutral</td>\n",
       "      <td>BBC News - Amazon boss Jeff Bezos rejects clai...</td>\n",
       "    </tr>\n",
       "    <tr>\n",
       "      <th>1</th>\n",
       "      <td>8312</td>\n",
       "      <td>Microsoft</td>\n",
       "      <td>Negative</td>\n",
       "      <td>@Microsoft Why do I pay for WORD when it funct...</td>\n",
       "    </tr>\n",
       "    <tr>\n",
       "      <th>2</th>\n",
       "      <td>4371</td>\n",
       "      <td>CS-GO</td>\n",
       "      <td>Negative</td>\n",
       "      <td>CSGO matchmaking is so full of closet hacking,...</td>\n",
       "    </tr>\n",
       "    <tr>\n",
       "      <th>3</th>\n",
       "      <td>4433</td>\n",
       "      <td>Google</td>\n",
       "      <td>Neutral</td>\n",
       "      <td>Now the President is slapping Americans in the...</td>\n",
       "    </tr>\n",
       "    <tr>\n",
       "      <th>4</th>\n",
       "      <td>6273</td>\n",
       "      <td>FIFA</td>\n",
       "      <td>Negative</td>\n",
       "      <td>Hi @EAHelp I’ve had Madeleine McCann in my cel...</td>\n",
       "    </tr>\n",
       "    <tr>\n",
       "      <th>...</th>\n",
       "      <td>...</td>\n",
       "      <td>...</td>\n",
       "      <td>...</td>\n",
       "      <td>...</td>\n",
       "    </tr>\n",
       "    <tr>\n",
       "      <th>994</th>\n",
       "      <td>4891</td>\n",
       "      <td>GrandTheftAuto(GTA)</td>\n",
       "      <td>Irrelevant</td>\n",
       "      <td>⭐️ Toronto is the arts and culture capital of ...</td>\n",
       "    </tr>\n",
       "    <tr>\n",
       "      <th>995</th>\n",
       "      <td>4359</td>\n",
       "      <td>CS-GO</td>\n",
       "      <td>Irrelevant</td>\n",
       "      <td>tHIS IS ACTUALLY A GOOD MOVE TOT BRING MORE VI...</td>\n",
       "    </tr>\n",
       "    <tr>\n",
       "      <th>996</th>\n",
       "      <td>2652</td>\n",
       "      <td>Borderlands</td>\n",
       "      <td>Positive</td>\n",
       "      <td>Today sucked so it’s time to drink wine n play...</td>\n",
       "    </tr>\n",
       "    <tr>\n",
       "      <th>997</th>\n",
       "      <td>8069</td>\n",
       "      <td>Microsoft</td>\n",
       "      <td>Positive</td>\n",
       "      <td>Bought a fraction of Microsoft today. Small wins.</td>\n",
       "    </tr>\n",
       "    <tr>\n",
       "      <th>998</th>\n",
       "      <td>6960</td>\n",
       "      <td>johnson&amp;johnson</td>\n",
       "      <td>Neutral</td>\n",
       "      <td>Johnson &amp; Johnson to stop selling talc baby po...</td>\n",
       "    </tr>\n",
       "  </tbody>\n",
       "</table>\n",
       "<p>999 rows × 4 columns</p>\n",
       "</div>"
      ],
      "text/plain": [
       "     3364             Facebook  Irrelevant  \\\n",
       "0     352               Amazon     Neutral   \n",
       "1    8312            Microsoft    Negative   \n",
       "2    4371                CS-GO    Negative   \n",
       "3    4433               Google     Neutral   \n",
       "4    6273                 FIFA    Negative   \n",
       "..    ...                  ...         ...   \n",
       "994  4891  GrandTheftAuto(GTA)  Irrelevant   \n",
       "995  4359                CS-GO  Irrelevant   \n",
       "996  2652          Borderlands    Positive   \n",
       "997  8069            Microsoft    Positive   \n",
       "998  6960      johnson&johnson     Neutral   \n",
       "\n",
       "    I mentioned on Facebook that I was struggling for motivation to go for a run the other day, which has been translated by Tom’s great auntie as ‘Hayley can’t get out of bed’ and told to his grandma, who now thinks I’m a lazy, terrible person 🤣  \n",
       "0    BBC News - Amazon boss Jeff Bezos rejects clai...                                                                                                                                                                                                  \n",
       "1    @Microsoft Why do I pay for WORD when it funct...                                                                                                                                                                                                  \n",
       "2    CSGO matchmaking is so full of closet hacking,...                                                                                                                                                                                                  \n",
       "3    Now the President is slapping Americans in the...                                                                                                                                                                                                  \n",
       "4    Hi @EAHelp I’ve had Madeleine McCann in my cel...                                                                                                                                                                                                  \n",
       "..                                                 ...                                                                                                                                                                                                  \n",
       "994  ⭐️ Toronto is the arts and culture capital of ...                                                                                                                                                                                                  \n",
       "995  tHIS IS ACTUALLY A GOOD MOVE TOT BRING MORE VI...                                                                                                                                                                                                  \n",
       "996  Today sucked so it’s time to drink wine n play...                                                                                                                                                                                                  \n",
       "997  Bought a fraction of Microsoft today. Small wins.                                                                                                                                                                                                  \n",
       "998  Johnson & Johnson to stop selling talc baby po...                                                                                                                                                                                                  \n",
       "\n",
       "[999 rows x 4 columns]"
      ]
     },
     "execution_count": 6,
     "metadata": {},
     "output_type": "execute_result"
    }
   ],
   "source": [
    "df_val = pd.read_csv('/kaggle/input/twitter-entity-sentiment-analysis/twitter_validation.csv')\n",
    "df_val"
   ]
  },
  {
   "cell_type": "code",
   "execution_count": 7,
   "id": "1edd351a",
   "metadata": {
    "execution": {
     "iopub.execute_input": "2025-04-21T06:49:04.680456Z",
     "iopub.status.busy": "2025-04-21T06:49:04.680168Z",
     "iopub.status.idle": "2025-04-21T06:49:04.721587Z",
     "shell.execute_reply": "2025-04-21T06:49:04.720622Z"
    },
    "papermill": {
     "duration": 0.048759,
     "end_time": "2025-04-21T06:49:04.722871",
     "exception": false,
     "start_time": "2025-04-21T06:49:04.674112",
     "status": "completed"
    },
    "tags": []
   },
   "outputs": [
    {
     "name": "stdout",
     "output_type": "stream",
     "text": [
      "<class 'pandas.core.frame.DataFrame'>\n",
      "RangeIndex: 74682 entries, 0 to 74681\n",
      "Data columns (total 4 columns):\n",
      " #   Column     Non-Null Count  Dtype \n",
      "---  ------     --------------  ----- \n",
      " 0   tweet_id   74682 non-null  object\n",
      " 1   entity     74682 non-null  object\n",
      " 2   sentiment  74682 non-null  object\n",
      " 3   text       73996 non-null  object\n",
      "dtypes: object(4)\n",
      "memory usage: 2.3+ MB\n"
     ]
    }
   ],
   "source": [
    "df_train.info()"
   ]
  },
  {
   "cell_type": "code",
   "execution_count": 8,
   "id": "693baed5",
   "metadata": {
    "execution": {
     "iopub.execute_input": "2025-04-21T06:49:04.734775Z",
     "iopub.status.busy": "2025-04-21T06:49:04.734425Z",
     "iopub.status.idle": "2025-04-21T06:49:04.750565Z",
     "shell.execute_reply": "2025-04-21T06:49:04.749697Z"
    },
    "papermill": {
     "duration": 0.023724,
     "end_time": "2025-04-21T06:49:04.752043",
     "exception": false,
     "start_time": "2025-04-21T06:49:04.728319",
     "status": "completed"
    },
    "tags": []
   },
   "outputs": [],
   "source": [
    "df_train['text'] = df_train['text'].fillna('0')"
   ]
  },
  {
   "cell_type": "code",
   "execution_count": 9,
   "id": "6c72bc6f",
   "metadata": {
    "execution": {
     "iopub.execute_input": "2025-04-21T06:49:04.765364Z",
     "iopub.status.busy": "2025-04-21T06:49:04.764770Z",
     "iopub.status.idle": "2025-04-21T06:49:04.789587Z",
     "shell.execute_reply": "2025-04-21T06:49:04.788862Z"
    },
    "papermill": {
     "duration": 0.032192,
     "end_time": "2025-04-21T06:49:04.790886",
     "exception": false,
     "start_time": "2025-04-21T06:49:04.758694",
     "status": "completed"
    },
    "tags": []
   },
   "outputs": [
    {
     "data": {
      "text/plain": [
       "tweet_id     0\n",
       "entity       0\n",
       "sentiment    0\n",
       "text         0\n",
       "dtype: int64"
      ]
     },
     "execution_count": 9,
     "metadata": {},
     "output_type": "execute_result"
    }
   ],
   "source": [
    "df_train.isna().sum()"
   ]
  },
  {
   "cell_type": "code",
   "execution_count": 10,
   "id": "1ead8ed0",
   "metadata": {
    "execution": {
     "iopub.execute_input": "2025-04-21T06:49:04.803159Z",
     "iopub.status.busy": "2025-04-21T06:49:04.802742Z",
     "iopub.status.idle": "2025-04-21T06:49:04.810033Z",
     "shell.execute_reply": "2025-04-21T06:49:04.809394Z"
    },
    "papermill": {
     "duration": 0.014703,
     "end_time": "2025-04-21T06:49:04.811466",
     "exception": false,
     "start_time": "2025-04-21T06:49:04.796763",
     "status": "completed"
    },
    "tags": []
   },
   "outputs": [],
   "source": [
    "current_col = df_val.columns.tolist()\n",
    "\n",
    "df_val.loc[-1] = current_col\n",
    "df_val.index = df_val.index+1\n",
    "df_val = df_val.sort_index()\n",
    "\n",
    "df_val.columns = ['tweet_id','entity','sentiment','text']\n",
    "\n",
    "df_val.reset_index(drop=True,inplace=True)"
   ]
  },
  {
   "cell_type": "code",
   "execution_count": 11,
   "id": "e324a950",
   "metadata": {
    "execution": {
     "iopub.execute_input": "2025-04-21T06:49:04.823800Z",
     "iopub.status.busy": "2025-04-21T06:49:04.823020Z",
     "iopub.status.idle": "2025-04-21T06:49:04.832789Z",
     "shell.execute_reply": "2025-04-21T06:49:04.832103Z"
    },
    "papermill": {
     "duration": 0.017007,
     "end_time": "2025-04-21T06:49:04.834017",
     "exception": false,
     "start_time": "2025-04-21T06:49:04.817010",
     "status": "completed"
    },
    "tags": []
   },
   "outputs": [
    {
     "data": {
      "text/html": [
       "<div>\n",
       "<style scoped>\n",
       "    .dataframe tbody tr th:only-of-type {\n",
       "        vertical-align: middle;\n",
       "    }\n",
       "\n",
       "    .dataframe tbody tr th {\n",
       "        vertical-align: top;\n",
       "    }\n",
       "\n",
       "    .dataframe thead th {\n",
       "        text-align: right;\n",
       "    }\n",
       "</style>\n",
       "<table border=\"1\" class=\"dataframe\">\n",
       "  <thead>\n",
       "    <tr style=\"text-align: right;\">\n",
       "      <th></th>\n",
       "      <th>tweet_id</th>\n",
       "      <th>entity</th>\n",
       "      <th>sentiment</th>\n",
       "      <th>text</th>\n",
       "    </tr>\n",
       "  </thead>\n",
       "  <tbody>\n",
       "    <tr>\n",
       "      <th>0</th>\n",
       "      <td>3364</td>\n",
       "      <td>Facebook</td>\n",
       "      <td>Irrelevant</td>\n",
       "      <td>I mentioned on Facebook that I was struggling ...</td>\n",
       "    </tr>\n",
       "    <tr>\n",
       "      <th>1</th>\n",
       "      <td>352</td>\n",
       "      <td>Amazon</td>\n",
       "      <td>Neutral</td>\n",
       "      <td>BBC News - Amazon boss Jeff Bezos rejects clai...</td>\n",
       "    </tr>\n",
       "    <tr>\n",
       "      <th>2</th>\n",
       "      <td>8312</td>\n",
       "      <td>Microsoft</td>\n",
       "      <td>Negative</td>\n",
       "      <td>@Microsoft Why do I pay for WORD when it funct...</td>\n",
       "    </tr>\n",
       "    <tr>\n",
       "      <th>3</th>\n",
       "      <td>4371</td>\n",
       "      <td>CS-GO</td>\n",
       "      <td>Negative</td>\n",
       "      <td>CSGO matchmaking is so full of closet hacking,...</td>\n",
       "    </tr>\n",
       "    <tr>\n",
       "      <th>4</th>\n",
       "      <td>4433</td>\n",
       "      <td>Google</td>\n",
       "      <td>Neutral</td>\n",
       "      <td>Now the President is slapping Americans in the...</td>\n",
       "    </tr>\n",
       "    <tr>\n",
       "      <th>...</th>\n",
       "      <td>...</td>\n",
       "      <td>...</td>\n",
       "      <td>...</td>\n",
       "      <td>...</td>\n",
       "    </tr>\n",
       "    <tr>\n",
       "      <th>995</th>\n",
       "      <td>4891</td>\n",
       "      <td>GrandTheftAuto(GTA)</td>\n",
       "      <td>Irrelevant</td>\n",
       "      <td>⭐️ Toronto is the arts and culture capital of ...</td>\n",
       "    </tr>\n",
       "    <tr>\n",
       "      <th>996</th>\n",
       "      <td>4359</td>\n",
       "      <td>CS-GO</td>\n",
       "      <td>Irrelevant</td>\n",
       "      <td>tHIS IS ACTUALLY A GOOD MOVE TOT BRING MORE VI...</td>\n",
       "    </tr>\n",
       "    <tr>\n",
       "      <th>997</th>\n",
       "      <td>2652</td>\n",
       "      <td>Borderlands</td>\n",
       "      <td>Positive</td>\n",
       "      <td>Today sucked so it’s time to drink wine n play...</td>\n",
       "    </tr>\n",
       "    <tr>\n",
       "      <th>998</th>\n",
       "      <td>8069</td>\n",
       "      <td>Microsoft</td>\n",
       "      <td>Positive</td>\n",
       "      <td>Bought a fraction of Microsoft today. Small wins.</td>\n",
       "    </tr>\n",
       "    <tr>\n",
       "      <th>999</th>\n",
       "      <td>6960</td>\n",
       "      <td>johnson&amp;johnson</td>\n",
       "      <td>Neutral</td>\n",
       "      <td>Johnson &amp; Johnson to stop selling talc baby po...</td>\n",
       "    </tr>\n",
       "  </tbody>\n",
       "</table>\n",
       "<p>1000 rows × 4 columns</p>\n",
       "</div>"
      ],
      "text/plain": [
       "    tweet_id               entity   sentiment  \\\n",
       "0       3364             Facebook  Irrelevant   \n",
       "1        352               Amazon     Neutral   \n",
       "2       8312            Microsoft    Negative   \n",
       "3       4371                CS-GO    Negative   \n",
       "4       4433               Google     Neutral   \n",
       "..       ...                  ...         ...   \n",
       "995     4891  GrandTheftAuto(GTA)  Irrelevant   \n",
       "996     4359                CS-GO  Irrelevant   \n",
       "997     2652          Borderlands    Positive   \n",
       "998     8069            Microsoft    Positive   \n",
       "999     6960      johnson&johnson     Neutral   \n",
       "\n",
       "                                                  text  \n",
       "0    I mentioned on Facebook that I was struggling ...  \n",
       "1    BBC News - Amazon boss Jeff Bezos rejects clai...  \n",
       "2    @Microsoft Why do I pay for WORD when it funct...  \n",
       "3    CSGO matchmaking is so full of closet hacking,...  \n",
       "4    Now the President is slapping Americans in the...  \n",
       "..                                                 ...  \n",
       "995  ⭐️ Toronto is the arts and culture capital of ...  \n",
       "996  tHIS IS ACTUALLY A GOOD MOVE TOT BRING MORE VI...  \n",
       "997  Today sucked so it’s time to drink wine n play...  \n",
       "998  Bought a fraction of Microsoft today. Small wins.  \n",
       "999  Johnson & Johnson to stop selling talc baby po...  \n",
       "\n",
       "[1000 rows x 4 columns]"
      ]
     },
     "execution_count": 11,
     "metadata": {},
     "output_type": "execute_result"
    }
   ],
   "source": [
    "df_val"
   ]
  },
  {
   "cell_type": "markdown",
   "id": "d42e6d4c",
   "metadata": {
    "papermill": {
     "duration": 0.005174,
     "end_time": "2025-04-21T06:49:04.844903",
     "exception": false,
     "start_time": "2025-04-21T06:49:04.839729",
     "status": "completed"
    },
    "tags": []
   },
   "source": [
    "# Bag of Words\n",
    "> Applying bag of Word on df_train"
   ]
  },
  {
   "cell_type": "code",
   "execution_count": 12,
   "id": "fbd93373",
   "metadata": {
    "execution": {
     "iopub.execute_input": "2025-04-21T06:49:04.857182Z",
     "iopub.status.busy": "2025-04-21T06:49:04.856865Z",
     "iopub.status.idle": "2025-04-21T06:49:06.491372Z",
     "shell.execute_reply": "2025-04-21T06:49:06.490432Z"
    },
    "papermill": {
     "duration": 1.642432,
     "end_time": "2025-04-21T06:49:06.492963",
     "exception": false,
     "start_time": "2025-04-21T06:49:04.850531",
     "status": "completed"
    },
    "tags": []
   },
   "outputs": [],
   "source": [
    "from sklearn.feature_extraction.text import CountVectorizer"
   ]
  },
  {
   "cell_type": "code",
   "execution_count": 13,
   "id": "c0052153",
   "metadata": {
    "execution": {
     "iopub.execute_input": "2025-04-21T06:49:06.505882Z",
     "iopub.status.busy": "2025-04-21T06:49:06.505009Z",
     "iopub.status.idle": "2025-04-21T06:49:06.509118Z",
     "shell.execute_reply": "2025-04-21T06:49:06.508330Z"
    },
    "papermill": {
     "duration": 0.011712,
     "end_time": "2025-04-21T06:49:06.510485",
     "exception": false,
     "start_time": "2025-04-21T06:49:06.498773",
     "status": "completed"
    },
    "tags": []
   },
   "outputs": [],
   "source": [
    "cv = CountVectorizer()"
   ]
  },
  {
   "cell_type": "code",
   "execution_count": 14,
   "id": "f49b04f6",
   "metadata": {
    "execution": {
     "iopub.execute_input": "2025-04-21T06:49:06.522766Z",
     "iopub.status.busy": "2025-04-21T06:49:06.522249Z",
     "iopub.status.idle": "2025-04-21T06:49:07.826997Z",
     "shell.execute_reply": "2025-04-21T06:49:07.826095Z"
    },
    "papermill": {
     "duration": 1.312687,
     "end_time": "2025-04-21T06:49:07.828724",
     "exception": false,
     "start_time": "2025-04-21T06:49:06.516037",
     "status": "completed"
    },
    "tags": []
   },
   "outputs": [],
   "source": [
    "bow = cv.fit_transform(df_train['text'])"
   ]
  },
  {
   "cell_type": "markdown",
   "id": "3d597e26",
   "metadata": {
    "papermill": {
     "duration": 0.005447,
     "end_time": "2025-04-21T06:49:07.839956",
     "exception": false,
     "start_time": "2025-04-21T06:49:07.834509",
     "status": "completed"
    },
    "tags": []
   },
   "source": [
    "* Conveting into vector."
   ]
  },
  {
   "cell_type": "code",
   "execution_count": 15,
   "id": "62907710",
   "metadata": {
    "execution": {
     "iopub.execute_input": "2025-04-21T06:49:07.852289Z",
     "iopub.status.busy": "2025-04-21T06:49:07.851541Z",
     "iopub.status.idle": "2025-04-21T06:49:07.857758Z",
     "shell.execute_reply": "2025-04-21T06:49:07.856814Z"
    },
    "papermill": {
     "duration": 0.013776,
     "end_time": "2025-04-21T06:49:07.859110",
     "exception": false,
     "start_time": "2025-04-21T06:49:07.845334",
     "status": "completed"
    },
    "tags": []
   },
   "outputs": [
    {
     "name": "stdout",
     "output_type": "stream",
     "text": [
      "[[0 0 0 ... 0 0 0]]\n",
      "[[0 0 0 ... 0 0 0]]\n"
     ]
    }
   ],
   "source": [
    "print(bow[0].toarray())\n",
    "print(bow[1].toarray())"
   ]
  },
  {
   "cell_type": "markdown",
   "id": "c10c0c4c",
   "metadata": {
    "papermill": {
     "duration": 0.005395,
     "end_time": "2025-04-21T06:49:07.870399",
     "exception": false,
     "start_time": "2025-04-21T06:49:07.865004",
     "status": "completed"
    },
    "tags": []
   },
   "source": [
    "# Ngram\n",
    "\n",
    "* Bi-gram, tri-gram and etc."
   ]
  },
  {
   "cell_type": "code",
   "execution_count": 16,
   "id": "3d9aeb30",
   "metadata": {
    "execution": {
     "iopub.execute_input": "2025-04-21T06:49:07.882501Z",
     "iopub.status.busy": "2025-04-21T06:49:07.882192Z",
     "iopub.status.idle": "2025-04-21T06:49:07.886039Z",
     "shell.execute_reply": "2025-04-21T06:49:07.885429Z"
    },
    "papermill": {
     "duration": 0.011466,
     "end_time": "2025-04-21T06:49:07.887236",
     "exception": false,
     "start_time": "2025-04-21T06:49:07.875770",
     "status": "completed"
    },
    "tags": []
   },
   "outputs": [],
   "source": [
    "ncv = CountVectorizer(ngram_range=(5,5))"
   ]
  },
  {
   "cell_type": "code",
   "execution_count": 17,
   "id": "e4f89683",
   "metadata": {
    "execution": {
     "iopub.execute_input": "2025-04-21T06:49:07.899273Z",
     "iopub.status.busy": "2025-04-21T06:49:07.898961Z",
     "iopub.status.idle": "2025-04-21T06:49:12.222541Z",
     "shell.execute_reply": "2025-04-21T06:49:12.221646Z"
    },
    "papermill": {
     "duration": 4.331384,
     "end_time": "2025-04-21T06:49:12.224184",
     "exception": false,
     "start_time": "2025-04-21T06:49:07.892800",
     "status": "completed"
    },
    "tags": []
   },
   "outputs": [],
   "source": [
    "bow_ngram = ncv.fit_transform(df_train['text'])"
   ]
  },
  {
   "cell_type": "code",
   "execution_count": 18,
   "id": "ece9acb4",
   "metadata": {
    "execution": {
     "iopub.execute_input": "2025-04-21T06:49:12.237160Z",
     "iopub.status.busy": "2025-04-21T06:49:12.236514Z",
     "iopub.status.idle": "2025-04-21T06:49:12.241008Z",
     "shell.execute_reply": "2025-04-21T06:49:12.240163Z"
    },
    "papermill": {
     "duration": 0.012227,
     "end_time": "2025-04-21T06:49:12.242330",
     "exception": false,
     "start_time": "2025-04-21T06:49:12.230103",
     "status": "completed"
    },
    "tags": []
   },
   "outputs": [
    {
     "name": "stdout",
     "output_type": "stream",
     "text": [
      "709897\n"
     ]
    }
   ],
   "source": [
    "print(len(ncv.vocabulary_))"
   ]
  },
  {
   "cell_type": "markdown",
   "id": "d1c12208",
   "metadata": {
    "papermill": {
     "duration": 0.005374,
     "end_time": "2025-04-21T06:49:12.253186",
     "exception": false,
     "start_time": "2025-04-21T06:49:12.247812",
     "status": "completed"
    },
    "tags": []
   },
   "source": [
    "# TF-IDF"
   ]
  },
  {
   "cell_type": "code",
   "execution_count": 19,
   "id": "ec106701",
   "metadata": {
    "execution": {
     "iopub.execute_input": "2025-04-21T06:49:12.265958Z",
     "iopub.status.busy": "2025-04-21T06:49:12.265663Z",
     "iopub.status.idle": "2025-04-21T06:49:12.269624Z",
     "shell.execute_reply": "2025-04-21T06:49:12.268926Z"
    },
    "papermill": {
     "duration": 0.011961,
     "end_time": "2025-04-21T06:49:12.270818",
     "exception": false,
     "start_time": "2025-04-21T06:49:12.258857",
     "status": "completed"
    },
    "tags": []
   },
   "outputs": [],
   "source": [
    "from sklearn.feature_extraction.text import TfidfVectorizer"
   ]
  },
  {
   "cell_type": "code",
   "execution_count": 20,
   "id": "f258c9c8",
   "metadata": {
    "execution": {
     "iopub.execute_input": "2025-04-21T06:49:12.283177Z",
     "iopub.status.busy": "2025-04-21T06:49:12.282865Z",
     "iopub.status.idle": "2025-04-21T06:49:20.343487Z",
     "shell.execute_reply": "2025-04-21T06:49:20.342670Z"
    },
    "papermill": {
     "duration": 8.068341,
     "end_time": "2025-04-21T06:49:20.344904",
     "exception": false,
     "start_time": "2025-04-21T06:49:12.276563",
     "status": "completed"
    },
    "tags": []
   },
   "outputs": [
    {
     "data": {
      "text/plain": [
       "array([[0., 0., 0., ..., 0., 0., 0.],\n",
       "       [0., 0., 0., ..., 0., 0., 0.],\n",
       "       [0., 0., 0., ..., 0., 0., 0.],\n",
       "       ...,\n",
       "       [0., 0., 0., ..., 0., 0., 0.],\n",
       "       [0., 0., 0., ..., 0., 0., 0.],\n",
       "       [0., 0., 0., ..., 0., 0., 0.]])"
      ]
     },
     "execution_count": 20,
     "metadata": {},
     "output_type": "execute_result"
    }
   ],
   "source": [
    "tfidf = TfidfVectorizer()\n",
    "tfidf.fit_transform(df_train['text']).toarray()"
   ]
  },
  {
   "cell_type": "code",
   "execution_count": 21,
   "id": "02ba7c61",
   "metadata": {
    "execution": {
     "iopub.execute_input": "2025-04-21T06:49:20.357675Z",
     "iopub.status.busy": "2025-04-21T06:49:20.357413Z",
     "iopub.status.idle": "2025-04-21T06:49:20.387453Z",
     "shell.execute_reply": "2025-04-21T06:49:20.386384Z"
    },
    "papermill": {
     "duration": 0.03798,
     "end_time": "2025-04-21T06:49:20.388835",
     "exception": false,
     "start_time": "2025-04-21T06:49:20.350855",
     "status": "completed"
    },
    "tags": []
   },
   "outputs": [
    {
     "name": "stdout",
     "output_type": "stream",
     "text": [
      "[ 7.42521722  6.95314961 10.27509762 ... 11.12239548 11.12239548\n",
      " 11.12239548]\n",
      "['00' '000' '00011' ... 'การออกอากาศของฉ' 'นจาก' 'ℐℓ٥']\n"
     ]
    }
   ],
   "source": [
    "print(tfidf.idf_)\n",
    "print(tfidf.get_feature_names_out())"
   ]
  },
  {
   "cell_type": "code",
   "execution_count": 22,
   "id": "9de42a29",
   "metadata": {
    "execution": {
     "iopub.execute_input": "2025-04-21T06:49:20.401902Z",
     "iopub.status.busy": "2025-04-21T06:49:20.401630Z",
     "iopub.status.idle": "2025-04-21T06:49:20.432436Z",
     "shell.execute_reply": "2025-04-21T06:49:20.431632Z"
    },
    "papermill": {
     "duration": 0.039021,
     "end_time": "2025-04-21T06:49:20.433795",
     "exception": false,
     "start_time": "2025-04-21T06:49:20.394774",
     "status": "completed"
    },
    "tags": []
   },
   "outputs": [
    {
     "data": {
      "text/plain": [
       "array(['00', '000', '00011', ..., 'การออกอากาศของฉ', 'นจาก', 'ℐℓ٥'],\n",
       "      dtype=object)"
      ]
     },
     "execution_count": 22,
     "metadata": {},
     "output_type": "execute_result"
    }
   ],
   "source": [
    "tfidf.get_feature_names_out()"
   ]
  },
  {
   "cell_type": "code",
   "execution_count": null,
   "id": "6768a312",
   "metadata": {
    "papermill": {
     "duration": 0.005689,
     "end_time": "2025-04-21T06:49:20.445630",
     "exception": false,
     "start_time": "2025-04-21T06:49:20.439941",
     "status": "completed"
    },
    "tags": []
   },
   "outputs": [],
   "source": []
  }
 ],
 "metadata": {
  "kaggle": {
   "accelerator": "none",
   "dataSources": [
    {
     "datasetId": 1520310,
     "sourceId": 2510329,
     "sourceType": "datasetVersion"
    }
   ],
   "dockerImageVersionId": 31012,
   "isGpuEnabled": false,
   "isInternetEnabled": true,
   "language": "python",
   "sourceType": "notebook"
  },
  "kernelspec": {
   "display_name": "Python 3",
   "language": "python",
   "name": "python3"
  },
  "language_info": {
   "codemirror_mode": {
    "name": "ipython",
    "version": 3
   },
   "file_extension": ".py",
   "mimetype": "text/x-python",
   "name": "python",
   "nbconvert_exporter": "python",
   "pygments_lexer": "ipython3",
   "version": "3.11.11"
  },
  "papermill": {
   "default_parameters": {},
   "duration": 24.834022,
   "end_time": "2025-04-21T06:49:21.572885",
   "environment_variables": {},
   "exception": null,
   "input_path": "__notebook__.ipynb",
   "output_path": "__notebook__.ipynb",
   "parameters": {},
   "start_time": "2025-04-21T06:48:56.738863",
   "version": "2.6.0"
  }
 },
 "nbformat": 4,
 "nbformat_minor": 5
}
